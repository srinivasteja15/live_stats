import numpy as np
import pandas as pd
#Data Source
import yfinance as yf
#Data viz library
import plotly.graph_objs as go

#Download JPYAUD data
data = yf.download(tickers = 'UBER' ,period ='1d', interval = '1m')
#declare figure
fig = go.Figure()

#Candlestick
fig.add_trace(go.Candlestick(x=data.index,
                open=data['Open'],
                high=data['High'],
                low=data['Low'],
                close=data['Close'], name = 'market data'))

# Add titles
fig.update_layout(
    title='UBER')

#Show
fig.show()
